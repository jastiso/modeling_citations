{
 "cells": [
  {
   "cell_type": "code",
   "execution_count": 1,
   "metadata": {},
   "outputs": [],
   "source": [
    "import pandas as pd\n",
    "import seaborn as sns\n",
    "import igraph\n",
    "import numpy as np\n",
    "import matplotlib.pyplot as plt\n",
    "from joblib import Parallel, delayed\n",
    "from tqdm import tqdm\n",
    "import statsmodels.api as sm\n",
    "from scipy.stats import ttest_1samp\n",
    "\n",
    "#plotting stuff\n",
    "from matplotlib import rcParams\n",
    "rcParams['font.sans-serif'] = \"Myriad Pro\"\n",
    "\n",
    "# import local functions\n",
    "import os\n",
    "import sys\n",
    "module_path = os.path.abspath(os.path.join(\"..\"))\n",
    "if module_path not in sys.path:\n",
    "    sys.path.append(module_path)\n",
    "from functions.author_fns import Author, compare_nets\n",
    "\n",
    "%matplotlib inline"
   ]
  },
  {
   "cell_type": "markdown",
   "metadata": {},
   "source": [
    "## Load data"
   ]
  },
  {
   "cell_type": "code",
   "execution_count": 2,
   "metadata": {},
   "outputs": [],
   "source": [
    "method = 'florida'\n",
    "node_2_gender = np.load('%s/data/%s_node_2_gender.npy'%('..',method),allow_pickle='TRUE').item()\n",
    "g = igraph.load('../data/florida_coa_graph',format='pickle')"
   ]
  },
  {
   "cell_type": "code",
   "execution_count": 3,
   "metadata": {},
   "outputs": [],
   "source": [
    "# functions\n",
    "# group meeting function\n",
    "def group_meet(n, auths, idx):\n",
    "    curr_meets = {}\n",
    "    for j in range(int(n)):        \n",
    "        # pick author for meeting\n",
    "        k = np.random.choice(idx)\n",
    "        \n",
    "        # check if at least one will meet\n",
    "        [m12,m21] = compare_nets(auths[j], auths[k], meet_method)\n",
    "        a1_size = auths[j].network.vcount()\n",
    "        a2_size = auths[k].network.vcount()\n",
    "        if any([m12,m21]):\n",
    "            # if yes, update the network\n",
    "            if m12:\n",
    "                bib = auths[k].get_cites(bib_length)\n",
    "                auths[j].update_network(bib, auths[k].network, learn_thr)\n",
    "                # forget\n",
    "                auths[j].forget(n=auths[j].network.vcount()-a1_size)\n",
    "            if m21:\n",
    "                bib = auths[j].get_cites(bib_length)\n",
    "                auths[k].update_network(bib, auths[j].network, learn_thr)\n",
    "                # forget\n",
    "                auths[k].forget(n=auths[k].network.vcount()-a2_size)\n",
    "        # log information\n",
    "        # update meets\n",
    "        curr_meets[j] = {'gender1': auths[j].gender, 'gender2':auths[k].gender, 'meet12':m12, 'meet21':m21}\n",
    "    \n",
    "    curr_auths = [auths[x] for x in idx]\n",
    "    w_index = [a.gender == 'W' for a in curr_auths]\n",
    "    m_index = [not(x) for x in w_index]\n",
    "    # get network size\n",
    "    net_size = (np.mean([len(a.memory) for a in curr_auths]),np.std([len(a.memory) for a in curr_auths]))\n",
    "    # update cites\n",
    "    bibs = [a.get_cites(bib_length) for a in curr_auths]\n",
    "    bibs_w = [b for i,b in enumerate(bibs) if w_index[i]]\n",
    "    bibs_m = [b for i,b in enumerate(bibs) if m_index[i]]\n",
    "    \n",
    "    return curr_meets, net_size, bibs, bibs_w, bibs_m\n"
   ]
  },
  {
   "cell_type": "markdown",
   "metadata": {},
   "source": [
    "## Parameter distributions and constants"
   ]
  },
  {
   "cell_type": "markdown",
   "metadata": {},
   "source": [
    "#### Thresholds and constants"
   ]
  },
  {
   "cell_type": "code",
   "execution_count": 4,
   "metadata": {},
   "outputs": [],
   "source": [
    "nAuth = 400\n",
    "nAuthSt = 200 # how many authors we start with\n",
    "nMeetings = 23\n",
    "learn_thr = .1\n",
    "c = 3\n",
    "diam = 3\n",
    "net_size = 500\n",
    "bib_length = 70\n",
    "woman_perc_i = .36\n",
    "meet_method = 'soc'\n",
    "woman_perc_f = 0.5#sum([x['gender'] == 'woman' for x in node_2_gender.values()])/len(node_2_gender)\n",
    "colors = ['#d97d5b', '#4a3b90', '#5295d0', '#fabc50']"
   ]
  },
  {
   "cell_type": "markdown",
   "metadata": {},
   "source": [
    "#### Netbias\n",
    "Men have 8.2 +/- 3% more men in their coauthor networks. MM teams have 4.4% +/- .1 more MM papers, WW team have 0.8% +/- .3 "
   ]
  },
  {
   "cell_type": "code",
   "execution_count": 5,
   "metadata": {},
   "outputs": [],
   "source": [
    "# parameters (mean, stdev) for each distribution\n",
    "net_w = (.51,.03)\n",
    "net_m = (.42,.01)"
   ]
  },
  {
   "cell_type": "code",
   "execution_count": 6,
   "metadata": {},
   "outputs": [
    {
     "name": "stderr",
     "output_type": "stream",
     "text": [
      "'MyriadPro-Regular.otf' can not be subsetted into a Type 3 font. The entire font will be embedded in the output.\n"
     ]
    },
    {
     "data": {
      "image/png": "[encoded data removed]",
      "text/plain": [
       "<Figure size 432x288 with 1 Axes>"
      ]
     },
     "metadata": {
      "needs_background": "light"
     },
     "output_type": "display_data"
    }
   ],
   "source": [
    "f,ax = plt.subplots(1,1,figsize=(6,4))\n",
    "sns.histplot(np.random.normal(loc=net_w[0],scale=net_w[1],size=5000), color=colors[2], stat='probability')\n",
    "sns.histplot(np.random.normal(loc=net_m[0],scale=net_m[1],size=5000), color=colors[3], stat='probability')\n",
    "f.legend(labels=['women','men'])\n",
    "plt.savefig('../data/img/alpha.pdf')"
   ]
  },
  {
   "cell_type": "markdown",
   "metadata": {},
   "source": [
    "#### Walk bias\n",
    "After regressing out co-auth networks, men cite MM at 5.9+/-.4. WW (w/o co-auth regression) WW at 9.5+/5.5"
   ]
  },
  {
   "cell_type": "code",
   "execution_count": 7,
   "metadata": {},
   "outputs": [],
   "source": [
    "walk_w = (.54,.1)\n",
    "walk_m = (.45,.1)"
   ]
  },
  {
   "cell_type": "code",
   "execution_count": 8,
   "metadata": {},
   "outputs": [
    {
     "name": "stderr",
     "output_type": "stream",
     "text": [
      "'MyriadPro-Regular.otf' can not be subsetted into a Type 3 font. The entire font will be embedded in the output.\n"
     ]
    },
    {
     "data": {
      "image/png": "[encoded data removed]",
      "text/plain": [
       "<Figure size 432x288 with 1 Axes>"
      ]
     },
     "metadata": {
      "needs_background": "light"
     },
     "output_type": "display_data"
    }
   ],
   "source": [
    "f,ax = plt.subplots(1,1,figsize=(6,4))\n",
    "sns.histplot(np.random.normal(loc=walk_w[0],scale=walk_w[1],size=5000), color=colors[2], stat='probability')\n",
    "sns.histplot(np.random.normal(loc=walk_m[0],scale=walk_m[1],size=5000), color=colors[3], stat='probability')\n",
    "ax.set_xlim(0,1)\n",
    "f.legend(labels=['women','men'])\n",
    "plt.savefig('../data/img/beta.pdf')"
   ]
  },
  {
   "cell_type": "markdown",
   "metadata": {},
   "source": [
    "#### Meet bias\n",
    "People in the majority are less interdisciplinary"
   ]
  },
  {
   "cell_type": "code",
   "execution_count": 9,
   "metadata": {},
   "outputs": [],
   "source": [
    "if meet_method == 'soc':\n",
    "    meet_w = (0.04,0.005)\n",
    "    meet_m = (0.06,0.005)\n",
    "elif meet_method == 'bi':\n",
    "    meet_w = (0.03,0.005)\n",
    "    meet_m = (0.03,0.005)"
   ]
  },
  {
   "cell_type": "code",
   "execution_count": 10,
   "metadata": {},
   "outputs": [
    {
     "name": "stderr",
     "output_type": "stream",
     "text": [
      "'MyriadPro-Regular.otf' can not be subsetted into a Type 3 font. The entire font will be embedded in the output.\n"
     ]
    },
    {
     "data": {
      "image/png": "[encoded data removed]",
      "text/plain": [
       "<Figure size 432x288 with 1 Axes>"
      ]
     },
     "metadata": {
      "needs_background": "light"
     },
     "output_type": "display_data"
    }
   ],
   "source": [
    "f,ax = plt.subplots(1,1,figsize=(6,4))\n",
    "sns.histplot(np.random.normal(loc=meet_m[0],scale=meet_w[1],size=5000), color=colors[2], stat='probability')\n",
    "sns.histplot(np.random.normal(loc=meet_w[0],scale=meet_m[1],size=5000), color=colors[3], stat='probability')\n",
    "f.legend(labels=['women','men'])\n",
    "plt.savefig('../data/img/gamma.pdf')"
   ]
  },
  {
   "cell_type": "markdown",
   "metadata": {},
   "source": [
    "#### Learn bias\n",
    "Mean taken from Chris's paper. Adam Grant paper about talking over women (20%)"
   ]
  },
  {
   "cell_type": "code",
   "execution_count": 11,
   "metadata": {},
   "outputs": [],
   "source": [
    "learn_w = (-1,.75)\n",
    "learn_m = (-1,.75)"
   ]
  },
  {
   "cell_type": "code",
   "execution_count": 12,
   "metadata": {},
   "outputs": [
    {
     "data": {
      "text/plain": [
       "<matplotlib.legend.Legend at 0x7fa299b40b80>"
      ]
     },
     "execution_count": 12,
     "metadata": {},
     "output_type": "execute_result"
    },
    {
     "data": {
      "image/png": "[encoded data removed]",
      "text/plain": [
       "<Figure size 432x288 with 1 Axes>"
      ]
     },
     "metadata": {
      "needs_background": "light"
     },
     "output_type": "display_data"
    }
   ],
   "source": [
    "f,ax = plt.subplots(1,1,figsize=(6,4))\n",
    "sns.histplot(np.log(np.random.lognormal(mean=learn_w[0],sigma=learn_w[1],size=5000)), color=colors[2])\n",
    "sns.histplot(np.log(np.random.lognormal(mean=learn_m[0],sigma=learn_m[1],size=5000)), color=colors[3])\n",
    "f.legend(labels=['women','men'])"
   ]
  },
  {
   "cell_type": "markdown",
   "metadata": {},
   "source": [
    "#### Forget bias\n",
    "\n",
    "Men not taught to be as ciritcal and update network less?"
   ]
  },
  {
   "cell_type": "code",
   "execution_count": 13,
   "metadata": {},
   "outputs": [],
   "source": [
    "forget_w = (5.,.02)\n",
    "forget_m = (5.,.02)"
   ]
  },
  {
   "cell_type": "code",
   "execution_count": 14,
   "metadata": {},
   "outputs": [
    {
     "data": {
      "text/plain": [
       "<matplotlib.legend.Legend at 0x7fa271406220>"
      ]
     },
     "execution_count": 14,
     "metadata": {},
     "output_type": "execute_result"
    },
    {
     "data": {
      "image/png": "[encoded data removed]",
      "text/plain": [
       "<Figure size 432x288 with 1 Axes>"
      ]
     },
     "metadata": {
      "needs_background": "light"
     },
     "output_type": "display_data"
    }
   ],
   "source": [
    "f,ax = plt.subplots(1,1,figsize=(6,4))\n",
    "sns.histplot(np.log(np.random.lognormal(mean=forget_w[0],sigma=forget_w[1],size=5000)), color=colors[2])\n",
    "sns.histplot(np.log(np.random.lognormal(mean=forget_m[0],sigma=forget_m[1],size=5000)), color=colors[3])\n",
    "f.legend(labels=['women','men'])"
   ]
  },
  {
   "cell_type": "markdown",
   "metadata": {},
   "source": [
    "## Simulations\n"
   ]
  },
  {
   "cell_type": "markdown",
   "metadata": {},
   "source": [
    "#### Social"
   ]
  },
  {
   "cell_type": "code",
   "execution_count": 15,
   "metadata": {},
   "outputs": [],
   "source": [
    "# generate authors\n",
    "authors = []\n",
    "for i in range(nAuth+100): # we need this to be bigger than the number of authors used in the simulation, to make sure we dont run out when making random draws\n",
    "    if np.random.rand(1)[0] >= woman_perc_f:\n",
    "        gen = 'M'\n",
    "    else:\n",
    "        gen = 'W'\n",
    "    # draw biases\n",
    "    if gen == 'M':\n",
    "        net = np.random.normal(loc=net_m[0],scale=net_m[1],size=1)[0]\n",
    "        walk = np.random.normal(loc=walk_m[0],scale=walk_m[1],size=1)[0]\n",
    "        meet = np.random.normal(loc=meet_m[0],scale=meet_m[1],size=1)[0]\n",
    "        learn = np.random.lognormal(mean=learn_m[0],sigma=learn_m[1],size=1)[0]\n",
    "        forget = np.random.normal(loc=forget_m[0],scale=forget_m[1],size=1)[0]\n",
    "    else:\n",
    "        net = np.random.normal(loc=net_w[0],scale=net_w[1],size=1)[0]\n",
    "        walk = np.random.normal(loc=walk_w[0],scale=walk_w[1],size=1)[0]\n",
    "        meet = np.random.normal(loc=meet_w[0],scale=meet_w[1],size=1)[0]\n",
    "        learn = np.random.lognormal(mean=learn_w[0],sigma=learn_w[1],size=1)[0]\n",
    "        forget = np.random.normal(loc=forget_w[0],scale=forget_w[1],size=1)[0]\n",
    "    # make object\n",
    "    a = Author(net,walk,meet,learn,forget,gen)\n",
    "    a.init_network(g,node_2_gender,net_size,diam,c)\n",
    "    authors.append(a)\n"
   ]
  },
  {
   "cell_type": "code",
   "execution_count": 100,
   "metadata": {},
   "outputs": [
    {
     "name": "stdout",
     "output_type": "stream",
     "text": [
      "209\n",
      "218\n",
      "227\n",
      "236\n",
      "245\n",
      "255\n",
      "264\n",
      "273\n",
      "282\n",
      "291\n",
      "300\n",
      "309\n",
      "318\n",
      "327\n",
      "336\n",
      "345\n",
      "355\n",
      "364\n",
      "373\n",
      "382\n",
      "391\n",
      "400\n"
     ]
    }
   ],
   "source": [
    "# simulate meetings\n",
    "w_index = [a.gender == 'W' for a in authors]\n",
    "w_ind = np.where(w_index)\n",
    "m_ind = np.where([not x for x in w_index])\n",
    "ns = np.round(np.linspace(nAuthSt, nAuth, nMeetings))\n",
    "ns_w = np.round(ns*np.linspace(woman_perc_i, woman_perc_f, nMeetings))\n",
    "new_w_perc = ((woman_perc_f*nAuth) - (woman_perc_i*nAuthSt))/(nAuth-nAuthSt) # with probability should the added authors be women?\n",
    "# build up time vary parameters, like authors, and gender percentage\n",
    "# initialize\n",
    "sim_params = {}\n",
    "w = np.random.choice(w_ind[0],(1,int(np.round((nAuthSt*woman_perc_i))))).tolist()[0]\n",
    "m = np.random.choice(m_ind[0],(1,nAuthSt - int(np.round((nAuthSt*woman_perc_i))))).tolist()[0]\n",
    "w.extend(m)\n",
    "sim_params[0] = {'author_idx':w,\n",
    "                    'woman_perc':woman_perc_i,\n",
    "                    'n':nAuthSt,}\n",
    "for i in range(1,nMeetings):\n",
    "    new_n = ns[i]\n",
    "    dn = new_n - sim_params[i-1]['n']\n",
    "    dw = ns_w[i] - sum([a.gender == 'W' for a in [authors[x] for x in new_auths]])\n",
    "    rem_auths = [j for j,a in enumerate(authors) if j not in sim_params[i-1]['author_idx']]\n",
    "    new_w_ind = [j for j,a in enumerate(authors) if (j in rem_auths) & (a.gender == 'W')]\n",
    "    new_m_ind = [j for j,a in enumerate(authors) if (j in rem_auths) & (a.gender == 'M')]\n",
    "    if dn > 0:\n",
    "        a = []\n",
    "        for j in range(int(dn)):\n",
    "            if j <= dw:\n",
    "                a.append(np.random.choice(new_w_ind).tolist())\n",
    "            else:\n",
    "                a.append(np.random.choice(new_m_ind).tolist())\n",
    "        new_auths = sim_params[i-1]['author_idx'].copy()\n",
    "        new_auths.extend(a)\n",
    "        print(str(np.size(new_auths)))\n",
    "        sim_params[i] = {'author_idx':new_auths,\n",
    "                        'woman_perc':sum([a.gender == 'W' for a in [authors[x] for x in new_auths]])/new_n,\n",
    "                        'n':new_n,}\n",
    "    else:\n",
    "        sim_params[i] = sim_params[i-1]"
   ]
  },
  {
   "cell_type": "code",
   "execution_count": 102,
   "metadata": {},
   "outputs": [
    {
     "name": "stderr",
     "output_type": "stream",
     "text": [
      "'MyriadPro-Regular.otf' can not be subsetted into a Type 3 font. The entire font will be embedded in the output.\n"
     ]
    },
    {
     "data": {
      "image/png": "[encoded data removed]",
      "text/plain": [
       "<Figure size 2880x720 with 1 Axes>"
      ]
     },
     "metadata": {
      "needs_background": "light"
     },
     "output_type": "display_data"
    }
   ],
   "source": [
    "# proportion of women in the field\n",
    "plt.rcParams.update({'font.size': 25})        \n",
    "plt.figure(figsize=(40,10))\n",
    "sns.lineplot(data=[x['woman_perc'] for x in sim_params.values()])\n",
    "plt.savefig('../data/img/tv_gender_prop.pdf')"
   ]
  },
  {
   "cell_type": "code",
   "execution_count": 18,
   "metadata": {},
   "outputs": [
    {
     "name": "stderr",
     "output_type": "stream",
     "text": [
      "1it [00:03,  3.44s/it]\n"
     ]
    },
    {
     "ename": "KeyboardInterrupt",
     "evalue": "",
     "output_type": "error",
     "traceback": [
      "\u001b[0;31m---------------------------------------------------------------------------\u001b[0m",
      "\u001b[0;31mKeyboardInterrupt\u001b[0m                         Traceback (most recent call last)",
      "\u001b[0;32m<ipython-input-18-552ae00850ce>\u001b[0m in \u001b[0;36m<module>\u001b[0;34m\u001b[0m\n\u001b[1;32m      2\u001b[0m \u001b[0mdata\u001b[0m \u001b[0;34m=\u001b[0m \u001b[0;34m[\u001b[0m\u001b[0;34m]\u001b[0m\u001b[0;34m\u001b[0m\u001b[0;34m\u001b[0m\u001b[0m\n\u001b[1;32m      3\u001b[0m \u001b[0;32mfor\u001b[0m \u001b[0mi\u001b[0m\u001b[0;34m,\u001b[0m\u001b[0mb\u001b[0m \u001b[0;32min\u001b[0m \u001b[0mtqdm\u001b[0m\u001b[0;34m(\u001b[0m\u001b[0menumerate\u001b[0m\u001b[0;34m(\u001b[0m\u001b[0mrange\u001b[0m\u001b[0;34m(\u001b[0m\u001b[0mnMeetings\u001b[0m\u001b[0;34m)\u001b[0m\u001b[0;34m)\u001b[0m\u001b[0;34m)\u001b[0m\u001b[0;34m:\u001b[0m\u001b[0;34m\u001b[0m\u001b[0;34m\u001b[0m\u001b[0m\n\u001b[0;32m----> 4\u001b[0;31m     \u001b[0mtmp\u001b[0m \u001b[0;34m=\u001b[0m \u001b[0mgroup_meet\u001b[0m\u001b[0;34m(\u001b[0m\u001b[0msim_params\u001b[0m\u001b[0;34m[\u001b[0m\u001b[0mi\u001b[0m\u001b[0;34m]\u001b[0m\u001b[0;34m[\u001b[0m\u001b[0;34m'n'\u001b[0m\u001b[0;34m]\u001b[0m\u001b[0;34m,\u001b[0m \u001b[0mauthors\u001b[0m\u001b[0;34m,\u001b[0m \u001b[0msim_params\u001b[0m\u001b[0;34m[\u001b[0m\u001b[0mi\u001b[0m\u001b[0;34m]\u001b[0m\u001b[0;34m[\u001b[0m\u001b[0;34m'author_idx'\u001b[0m\u001b[0;34m]\u001b[0m\u001b[0;34m)\u001b[0m\u001b[0;34m\u001b[0m\u001b[0;34m\u001b[0m\u001b[0m\n\u001b[0m\u001b[1;32m      5\u001b[0m     \u001b[0mdata\u001b[0m\u001b[0;34m.\u001b[0m\u001b[0mappend\u001b[0m\u001b[0;34m(\u001b[0m\u001b[0mtmp\u001b[0m\u001b[0;34m)\u001b[0m\u001b[0;34m\u001b[0m\u001b[0;34m\u001b[0m\u001b[0m\n\u001b[1;32m      6\u001b[0m     \u001b[0;32mdel\u001b[0m \u001b[0mtmp\u001b[0m\u001b[0;34m\u001b[0m\u001b[0;34m\u001b[0m\u001b[0m\n",
      "\u001b[0;32m<ipython-input-3-aa7b54d1682e>\u001b[0m in \u001b[0;36mgroup_meet\u001b[0;34m(n, auths, idx)\u001b[0m\n\u001b[1;32m     33\u001b[0m     \u001b[0mnet_size\u001b[0m \u001b[0;34m=\u001b[0m \u001b[0;34m(\u001b[0m\u001b[0mnp\u001b[0m\u001b[0;34m.\u001b[0m\u001b[0mmean\u001b[0m\u001b[0;34m(\u001b[0m\u001b[0;34m[\u001b[0m\u001b[0mlen\u001b[0m\u001b[0;34m(\u001b[0m\u001b[0ma\u001b[0m\u001b[0;34m.\u001b[0m\u001b[0mmemory\u001b[0m\u001b[0;34m)\u001b[0m \u001b[0;32mfor\u001b[0m \u001b[0ma\u001b[0m \u001b[0;32min\u001b[0m \u001b[0mcurr_auths\u001b[0m\u001b[0;34m]\u001b[0m\u001b[0;34m)\u001b[0m\u001b[0;34m,\u001b[0m\u001b[0mnp\u001b[0m\u001b[0;34m.\u001b[0m\u001b[0mstd\u001b[0m\u001b[0;34m(\u001b[0m\u001b[0;34m[\u001b[0m\u001b[0mlen\u001b[0m\u001b[0;34m(\u001b[0m\u001b[0ma\u001b[0m\u001b[0;34m.\u001b[0m\u001b[0mmemory\u001b[0m\u001b[0;34m)\u001b[0m \u001b[0;32mfor\u001b[0m \u001b[0ma\u001b[0m \u001b[0;32min\u001b[0m \u001b[0mcurr_auths\u001b[0m\u001b[0;34m]\u001b[0m\u001b[0;34m)\u001b[0m\u001b[0;34m)\u001b[0m\u001b[0;34m\u001b[0m\u001b[0;34m\u001b[0m\u001b[0m\n\u001b[1;32m     34\u001b[0m     \u001b[0;31m# update cites\u001b[0m\u001b[0;34m\u001b[0m\u001b[0;34m\u001b[0m\u001b[0;34m\u001b[0m\u001b[0m\n\u001b[0;32m---> 35\u001b[0;31m     \u001b[0mbibs\u001b[0m \u001b[0;34m=\u001b[0m \u001b[0;34m[\u001b[0m\u001b[0ma\u001b[0m\u001b[0;34m.\u001b[0m\u001b[0mget_cites\u001b[0m\u001b[0;34m(\u001b[0m\u001b[0mbib_length\u001b[0m\u001b[0;34m)\u001b[0m \u001b[0;32mfor\u001b[0m \u001b[0ma\u001b[0m \u001b[0;32min\u001b[0m \u001b[0mcurr_auths\u001b[0m\u001b[0;34m]\u001b[0m\u001b[0;34m\u001b[0m\u001b[0;34m\u001b[0m\u001b[0m\n\u001b[0m\u001b[1;32m     36\u001b[0m     \u001b[0mbibs_w\u001b[0m \u001b[0;34m=\u001b[0m \u001b[0;34m[\u001b[0m\u001b[0mb\u001b[0m \u001b[0;32mfor\u001b[0m \u001b[0mi\u001b[0m\u001b[0;34m,\u001b[0m\u001b[0mb\u001b[0m \u001b[0;32min\u001b[0m \u001b[0menumerate\u001b[0m\u001b[0;34m(\u001b[0m\u001b[0mbibs\u001b[0m\u001b[0;34m)\u001b[0m \u001b[0;32mif\u001b[0m \u001b[0mw_index\u001b[0m\u001b[0;34m[\u001b[0m\u001b[0mi\u001b[0m\u001b[0;34m]\u001b[0m\u001b[0;34m]\u001b[0m\u001b[0;34m\u001b[0m\u001b[0;34m\u001b[0m\u001b[0m\n\u001b[1;32m     37\u001b[0m     \u001b[0mbibs_m\u001b[0m \u001b[0;34m=\u001b[0m \u001b[0;34m[\u001b[0m\u001b[0mb\u001b[0m \u001b[0;32mfor\u001b[0m \u001b[0mi\u001b[0m\u001b[0;34m,\u001b[0m\u001b[0mb\u001b[0m \u001b[0;32min\u001b[0m \u001b[0menumerate\u001b[0m\u001b[0;34m(\u001b[0m\u001b[0mbibs\u001b[0m\u001b[0;34m)\u001b[0m \u001b[0;32mif\u001b[0m \u001b[0mm_index\u001b[0m\u001b[0;34m[\u001b[0m\u001b[0mi\u001b[0m\u001b[0;34m]\u001b[0m\u001b[0;34m]\u001b[0m\u001b[0;34m\u001b[0m\u001b[0;34m\u001b[0m\u001b[0m\n",
      "\u001b[0;32m<ipython-input-3-aa7b54d1682e>\u001b[0m in \u001b[0;36m<listcomp>\u001b[0;34m(.0)\u001b[0m\n\u001b[1;32m     33\u001b[0m     \u001b[0mnet_size\u001b[0m \u001b[0;34m=\u001b[0m \u001b[0;34m(\u001b[0m\u001b[0mnp\u001b[0m\u001b[0;34m.\u001b[0m\u001b[0mmean\u001b[0m\u001b[0;34m(\u001b[0m\u001b[0;34m[\u001b[0m\u001b[0mlen\u001b[0m\u001b[0;34m(\u001b[0m\u001b[0ma\u001b[0m\u001b[0;34m.\u001b[0m\u001b[0mmemory\u001b[0m\u001b[0;34m)\u001b[0m \u001b[0;32mfor\u001b[0m \u001b[0ma\u001b[0m \u001b[0;32min\u001b[0m \u001b[0mcurr_auths\u001b[0m\u001b[0;34m]\u001b[0m\u001b[0;34m)\u001b[0m\u001b[0;34m,\u001b[0m\u001b[0mnp\u001b[0m\u001b[0;34m.\u001b[0m\u001b[0mstd\u001b[0m\u001b[0;34m(\u001b[0m\u001b[0;34m[\u001b[0m\u001b[0mlen\u001b[0m\u001b[0;34m(\u001b[0m\u001b[0ma\u001b[0m\u001b[0;34m.\u001b[0m\u001b[0mmemory\u001b[0m\u001b[0;34m)\u001b[0m \u001b[0;32mfor\u001b[0m \u001b[0ma\u001b[0m \u001b[0;32min\u001b[0m \u001b[0mcurr_auths\u001b[0m\u001b[0;34m]\u001b[0m\u001b[0;34m)\u001b[0m\u001b[0;34m)\u001b[0m\u001b[0;34m\u001b[0m\u001b[0;34m\u001b[0m\u001b[0m\n\u001b[1;32m     34\u001b[0m     \u001b[0;31m# update cites\u001b[0m\u001b[0;34m\u001b[0m\u001b[0;34m\u001b[0m\u001b[0;34m\u001b[0m\u001b[0m\n\u001b[0;32m---> 35\u001b[0;31m     \u001b[0mbibs\u001b[0m \u001b[0;34m=\u001b[0m \u001b[0;34m[\u001b[0m\u001b[0ma\u001b[0m\u001b[0;34m.\u001b[0m\u001b[0mget_cites\u001b[0m\u001b[0;34m(\u001b[0m\u001b[0mbib_length\u001b[0m\u001b[0;34m)\u001b[0m \u001b[0;32mfor\u001b[0m \u001b[0ma\u001b[0m \u001b[0;32min\u001b[0m \u001b[0mcurr_auths\u001b[0m\u001b[0;34m]\u001b[0m\u001b[0;34m\u001b[0m\u001b[0;34m\u001b[0m\u001b[0m\n\u001b[0m\u001b[1;32m     36\u001b[0m     \u001b[0mbibs_w\u001b[0m \u001b[0;34m=\u001b[0m \u001b[0;34m[\u001b[0m\u001b[0mb\u001b[0m \u001b[0;32mfor\u001b[0m \u001b[0mi\u001b[0m\u001b[0;34m,\u001b[0m\u001b[0mb\u001b[0m \u001b[0;32min\u001b[0m \u001b[0menumerate\u001b[0m\u001b[0;34m(\u001b[0m\u001b[0mbibs\u001b[0m\u001b[0;34m)\u001b[0m \u001b[0;32mif\u001b[0m \u001b[0mw_index\u001b[0m\u001b[0;34m[\u001b[0m\u001b[0mi\u001b[0m\u001b[0;34m]\u001b[0m\u001b[0;34m]\u001b[0m\u001b[0;34m\u001b[0m\u001b[0;34m\u001b[0m\u001b[0m\n\u001b[1;32m     37\u001b[0m     \u001b[0mbibs_m\u001b[0m \u001b[0;34m=\u001b[0m \u001b[0;34m[\u001b[0m\u001b[0mb\u001b[0m \u001b[0;32mfor\u001b[0m \u001b[0mi\u001b[0m\u001b[0;34m,\u001b[0m\u001b[0mb\u001b[0m \u001b[0;32min\u001b[0m \u001b[0menumerate\u001b[0m\u001b[0;34m(\u001b[0m\u001b[0mbibs\u001b[0m\u001b[0;34m)\u001b[0m \u001b[0;32mif\u001b[0m \u001b[0mm_index\u001b[0m\u001b[0;34m[\u001b[0m\u001b[0mi\u001b[0m\u001b[0;34m]\u001b[0m\u001b[0;34m]\u001b[0m\u001b[0;34m\u001b[0m\u001b[0;34m\u001b[0m\u001b[0m\n",
      "\u001b[0;32m~/Documents/Code/modeling_citations/functions/author_fns.py\u001b[0m in \u001b[0;36mget_cites\u001b[0;34m(self, n, start)\u001b[0m\n\u001b[1;32m    202\u001b[0m         \u001b[0;32mif\u001b[0m \u001b[0mn\u001b[0m \u001b[0;34m>\u001b[0m \u001b[0;36m1\u001b[0m\u001b[0;34m:\u001b[0m\u001b[0;34m\u001b[0m\u001b[0;34m\u001b[0m\u001b[0m\n\u001b[1;32m    203\u001b[0m             \u001b[0;32mfor\u001b[0m \u001b[0mi\u001b[0m \u001b[0;32min\u001b[0m \u001b[0mrange\u001b[0m\u001b[0;34m(\u001b[0m\u001b[0;36m1\u001b[0m\u001b[0;34m,\u001b[0m \u001b[0mn\u001b[0m\u001b[0;34m-\u001b[0m\u001b[0;36m1\u001b[0m\u001b[0;34m)\u001b[0m\u001b[0;34m:\u001b[0m\u001b[0;34m\u001b[0m\u001b[0;34m\u001b[0m\u001b[0m\n\u001b[0;32m--> 204\u001b[0;31m                 \u001b[0mnodes\u001b[0m \u001b[0;34m=\u001b[0m \u001b[0mself\u001b[0m\u001b[0;34m.\u001b[0m\u001b[0mnetwork\u001b[0m\u001b[0;34m.\u001b[0m\u001b[0mneighbors\u001b[0m\u001b[0;34m(\u001b[0m\u001b[0mbib\u001b[0m\u001b[0;34m[\u001b[0m\u001b[0mi\u001b[0m\u001b[0;34m-\u001b[0m\u001b[0;36m1\u001b[0m\u001b[0;34m]\u001b[0m\u001b[0;34m[\u001b[0m\u001b[0;34m'id'\u001b[0m\u001b[0;34m]\u001b[0m\u001b[0;34m)\u001b[0m\u001b[0;34m\u001b[0m\u001b[0;34m\u001b[0m\u001b[0m\n\u001b[0m\u001b[1;32m    205\u001b[0m                 \u001b[0;31m# get transition probabilities, weighted by gender\u001b[0m\u001b[0;34m\u001b[0m\u001b[0;34m\u001b[0m\u001b[0;34m\u001b[0m\u001b[0m\n\u001b[1;32m    206\u001b[0m                 \u001b[0mtransitionProb\u001b[0m \u001b[0;34m=\u001b[0m \u001b[0mnp\u001b[0m\u001b[0;34m.\u001b[0m\u001b[0mones\u001b[0m\u001b[0;34m(\u001b[0m\u001b[0;34m(\u001b[0m\u001b[0mlen\u001b[0m\u001b[0;34m(\u001b[0m\u001b[0mnodes\u001b[0m\u001b[0;34m)\u001b[0m\u001b[0;34m,\u001b[0m\u001b[0;34m)\u001b[0m\u001b[0;34m)\u001b[0m\u001b[0;34m\u001b[0m\u001b[0;34m\u001b[0m\u001b[0m\n",
      "\u001b[0;31mKeyboardInterrupt\u001b[0m: "
     ]
    }
   ],
   "source": [
    "# run simulation\n",
    "data = []\n",
    "for i,b in tqdm(enumerate(range(nMeetings))):\n",
    "    tmp = group_meet(sim_params[i]['n'], authors, sim_params[i]['author_idx'])\n",
    "    data.append(tmp)\n",
    "    del tmp"
   ]
  },
  {
   "cell_type": "code",
   "execution_count": null,
   "metadata": {
    "scrolled": true
   },
   "outputs": [],
   "source": [
    "# intialize final data structs\n",
    "meets = {}; # keep track of when meetings were successful\n",
    "net_size = []\n",
    "bibs = {}\n",
    "bibs_w = {}\n",
    "bibs_m = {}\n",
    "cite_perc = []\n",
    "percs = [x['woman_perc'] for x in sim_params.values()]\n",
    "\n",
    "# reformat data\n",
    "cite_data = pd.DataFrame(columns=['perc','gen','time'])\n",
    "prac_data = pd.DataFrame(columns=['prac','time','gen','citer'])\n",
    "for i,d in enumerate(data):    \n",
    "    curr_meets, ns, bs, bws, bms = d\n",
    "    curr_meets = dict(zip(np.array(list(curr_meets.keys()))+((i)*nAuth),curr_meets.values()))\n",
    "    meets.update(curr_meets)\n",
    "    net_size.append(ns)\n",
    "    bibs[i] = bs\n",
    "    bibs_w[i] = bws\n",
    "    bibs_m[i] = bms\n"
   ]
  },
  {
   "cell_type": "markdown",
   "metadata": {},
   "source": [
    "#### Plots"
   ]
  },
  {
   "cell_type": "code",
   "execution_count": null,
   "metadata": {},
   "outputs": [],
   "source": [
    "# network size (stopping at 460 for 0.4)\n",
    "plt.figure(figsize=(40,10))\n",
    "sns.lineplot(data=[x[0] for x in net_size])"
   ]
  },
  {
   "cell_type": "code",
   "execution_count": null,
   "metadata": {},
   "outputs": [],
   "source": [
    "# number of meetings\n",
    "plt.rcParams.update({'font.size': 25})        \n",
    "f,ax = plt.subplots(1,3,figsize=(40,10))\n",
    "sns.countplot(x=[x['meet12'] + x['meet21'] for x in meets.values()], ax=ax[0])\n",
    "ax[0].set_title('Total Meetings')\n",
    "sns.countplot(x=[x['meet12'] + x['meet21'] for x in meets.values() \n",
    "               if (x['gender1'] == x['gender2'])], ax=ax[1])\n",
    "ax[1].set_title('Same Gender Meetings')\n",
    "sns.countplot(x=[x['meet12'] + x['meet21'] for x in meets.values() \n",
    "                 if (x['gender1'] != x['gender2'])], ax=ax[2])\n",
    "ax[2].set_title('Different Gender Meetings')"
   ]
  },
  {
   "cell_type": "code",
   "execution_count": null,
   "metadata": {},
   "outputs": [],
   "source": [
    "# static plot\n",
    "static_perc = np.empty((nMeetings,len(bibs[nMeetings-1])))\n",
    "static_perc[:] = np.NaN\n",
    "static_perc_w = np.empty((nMeetings,len(bibs_w[nMeetings-1])))\n",
    "static_perc_w[:] = np.NaN\n",
    "static_perc_m = np.empty((nMeetings,len(bibs_m[nMeetings-1])))\n",
    "static_perc_m[:] = np.NaN\n",
    "for i,b in enumerate(bibs.values()):\n",
    "    # get all authors citations at this time point\n",
    "    for j,p in enumerate(b):\n",
    "        # add to list\n",
    "        static_perc[i][j] = np.mean([cite['gender'] == 'woman' for cite in p.values()])\n",
    "        \n",
    "for i,b in enumerate(bibs_w.values()):\n",
    "    # get all w authors citations at this time point\n",
    "    for j,p in enumerate(b):\n",
    "        # add to list\n",
    "        static_perc_w[i][j] = np.mean([cite['gender'] == 'woman' for cite in p.values()])\n",
    "\n",
    "for i,b in enumerate(bibs_m.values()):\n",
    "    # get all m authors citations at this time point\n",
    "    for j,p in enumerate(b):\n",
    "        # add to list\n",
    "        static_perc_m[i][j] = np.mean([cite['gender'] == 'woman' for cite in p.values()])\n",
    "    "
   ]
  },
  {
   "cell_type": "code",
   "execution_count": null,
   "metadata": {},
   "outputs": [],
   "source": [
    "plt.figure(figsize=(12,4))\n",
    "\n",
    "plt.subplot(131)\n",
    "amw = np.nanmean([(x-percs)/percs for x in static_perc.T])\n",
    "asw = np.nanstd([(x-percs)/percs for x in static_perc.T])/np.sqrt(len(bibs[nMeetings-1]))\n",
    "amm = np.nanmean([((1 - x) - (1 - np.array(percs)))/(1 - np.array(percs)) for x in static_perc.T])\n",
    "asm = np.nanstd([((1 - x) - (1 - np.array(percs)))/(1 - np.array(percs)) for x in static_perc.T])/np.sqrt(len(bibs[nMeetings-1]))\n",
    "\n",
    "plt.bar(['women','men'], [amw, amm], color=colors)\n",
    "plt.errorbar(['women','men'], [amw,amm], [asw, asm], fmt='none', color='k')\n",
    "plt.title('All')\n",
    "print('All citers (w): ' + str(amw) + '%, +/-' + str(asw))\n",
    "print('All citers (m): ' + str(amm) + '%, +/-' + str(asm))\n",
    "\n",
    "plt.subplot(132)\n",
    "wmw = np.nanmean([(x-percs)/percs for x in static_perc_w.T])\n",
    "wsw = np.nanstd([(x-percs)/percs for x in static_perc_w.T])/np.sqrt(len(bibs[nMeetings-1]))\n",
    "wmm = np.nanmean([((1 - x) - (1 - np.array(percs)))/(1 - np.array(percs)) for x in static_perc_w.T])\n",
    "wsm = np.nanstd([((1 - x) - (1 - np.array(percs)))/(1 - np.array(percs)) for x in static_perc_w.T])/np.sqrt(len(bibs[nMeetings-1]))\n",
    "\n",
    "plt.bar(['women','men'], [wmw, wmm], color=colors)\n",
    "plt.errorbar(['women','men'], [wmw,wmm],[wsw,wsm], fmt='none', color='k')\n",
    "plt.title('Women')\n",
    "print('W citers (w): ' + str(wmw) + '%, +/-' + str(wsw))\n",
    "print('W citers (m): ' + str(wmm) + '%, +/-' + str(wsm))\n",
    "\n",
    "plt.subplot(133)\n",
    "mmw = np.nanmean([(x-percs)/percs for x in static_perc_m.T])\n",
    "msw = np.nanstd([(x-percs)/percs for x in static_perc_m.T])/np.sqrt(len(bibs[nMeetings-1]))\n",
    "mmm = np.nanmean([((1 - x) - (1 - np.array(percs)))/(1 - np.array(percs)) for x in static_perc_m.T])\n",
    "msm = np.nanstd([((1 - x) - (1 - np.array(percs)))/(1 - np.array(percs)) for x in static_perc_m.T])/np.sqrt(len(bibs[nMeetings-1]))\n",
    "\n",
    "plt.bar(['women','men'], [mmw,mmm], color=colors)\n",
    "plt.errorbar(['women','men'], [mmw,mmm],[msw,msm], fmt='none', color='k')\n",
    "plt.title('Men')\n",
    "print('M citers (w): ' + str(mmw) + '%, +/-' + str(msw))\n",
    "print('M citers (m): ' + str(mmm) + '%, +/-' + str(msm))\n",
    "plt.tight_layout()\n",
    "plt.savefig('../data/img/static_cites.pdf')\n",
    "\n"
   ]
  },
  {
   "cell_type": "code",
   "execution_count": null,
   "metadata": {},
   "outputs": [],
   "source": [
    "# stats\n",
    "wt,wp = ttest_1samp(np.nanmean([(x-percs)/percs for x in static_perc.T],1),0)\n",
    "mt,mp = ttest_1samp(np.nanmean([((1 - x) - (1 - np.array(percs)))/(1 - np.array(percs)) for x in static_perc.T],1),0)\n",
    "print('All citers (w): ' + str(wt) + ', ' + str(wp))\n",
    "print('All citers (m): ' + str(mt) + ', ' + str(mp))\n",
    "\n",
    "wt,wp = ttest_1samp(np.nanmean([(x-percs)/percs for x in static_perc_w.T],1),0)\n",
    "mt,mp = ttest_1samp(np.nanmean([((1 - x) - (1 - np.array(percs)))/(1 - np.array(percs)) for x in static_perc_w.T],1),0)\n",
    "print('W citers (w): ' + str(wt) + ', ' + str(wp))\n",
    "print('W citers (m): ' + str(mt) + ', ' + str(mp))\n",
    "\n",
    "wt,wp = ttest_1samp(np.nanmean([(x-percs)/percs for x in static_perc_m.T],1),0)\n",
    "mt,mp = ttest_1samp(np.nanmean([((1 - x) - (1 - np.array(percs)))/(1 - np.array(percs)) for x in static_perc_m.T],1),0)\n",
    "print('M citers (w): ' + str(wt) + ', ' + str(wp))\n",
    "print('M citers (m): ' + str(mt) + ', ' + str(mp))"
   ]
  },
  {
   "cell_type": "code",
   "execution_count": null,
   "metadata": {},
   "outputs": [],
   "source": [
    "cite_data = pd.DataFrame(columns=['perc','gen','citer','time'])\n",
    "for i,b in bibs.items():\n",
    "    curr_perc = (np.array([np.mean([cite['gender'] == 'woman' for cite in x.values()]) for x in b]) - percs[i])/percs[i]\n",
    "    tmp_data = pd.DataFrame({'perc': curr_perc, \n",
    "                             'gen':['w']*len(curr_perc),\n",
    "                             'citer':['all']*len(curr_perc),\n",
    "                             'time':[i]*len(curr_perc)})\n",
    "    cite_data = pd.concat([cite_data,tmp_data])\n",
    "    \n",
    "for i,b in bibs_w.items():\n",
    "    curr_perc_w = (np.array([np.mean([cite['gender'] == 'woman' for cite in x.values()]) for x in b]) - percs[i])/percs[i]\n",
    "    curr_perc_m = (1 - (np.array([np.mean([cite['gender'] == 'woman' for cite in x.values()]) for x in b])) - (1 - percs[i]))/(1 - percs[i])    \n",
    "    \n",
    "    # womens citation by gender\n",
    "    gen = ['w']*len(curr_perc_w)\n",
    "    gen.extend(['m']*len(curr_perc_m))\n",
    "    tmp_data = pd.DataFrame({'perc': np.concatenate((curr_perc_w, curr_perc_m)), \n",
    "                              'citer':['w']*(len(curr_perc_w)+len(curr_perc_m)),\n",
    "                              'gen':gen,\n",
    "                              'time':[i]*(len(curr_perc_w)+len(curr_perc_m))})    \n",
    "    cite_data = pd.concat([cite_data,tmp_data])\n",
    "    \n",
    "for i,b in bibs_m.items():\n",
    "    curr_perc_w = (np.array([np.mean([cite['gender'] == 'woman' for cite in x.values()]) for x in b]) - percs[i])/percs[i]\n",
    "    curr_perc_m = (1 - (np.array([np.mean([cite['gender'] == 'woman' for cite in x.values()]) for x in b])) - (1 - percs[i]))/(1 - percs[i])    \n",
    "    \n",
    "    # mens citation by gender\n",
    "    gen = ['w']*len(curr_perc_w)\n",
    "    gen.extend(['m']*len(curr_perc_m))\n",
    "    tmp_data = pd.DataFrame({'perc': np.concatenate((curr_perc_w, curr_perc_m)), \n",
    "                             'gen':gen, \n",
    "                             'citer':['m']*(len(curr_perc_w)+len(curr_perc_m)), \n",
    "                             'time':[i]*(len(curr_perc_w)+len(curr_perc_m))})    \n",
    "    cite_data = pd.concat([cite_data,tmp_data])\n"
   ]
  },
  {
   "cell_type": "code",
   "execution_count": null,
   "metadata": {},
   "outputs": [],
   "source": [
    "f,ax = plt.subplots(1,1,figsize=(12,4))\n",
    "sns.lineplot(data=cite_data[cite_data['gen'] == 'w'], x='time', y='perc', hue='citer',ax=ax, palette=['grey',colors[2],colors[3]])\n",
    "ax.set_title('Percentage citation of women')\n",
    "plt.savefig('../data/img/all_cite_w.pdf')"
   ]
  },
  {
   "cell_type": "code",
   "execution_count": null,
   "metadata": {},
   "outputs": [],
   "source": [
    "# stats\n",
    "X = sm.add_constant(range(nMeetings))\n",
    "y = cite_data[(cite_data['citer'] == 'all') & (cite_data['gen'] == 'w')].groupby('time').mean().values\n",
    "mod = sm.OLS(y, X)\n",
    "res = mod.fit()\n",
    "yw = cite_data[(cite_data['citer'] == 'w') & (cite_data['gen'] == 'w')].groupby('time').mean().values\n",
    "modw = sm.OLS(yw, X)\n",
    "resw = modw.fit()\n",
    "ym = cite_data[(cite_data['citer'] == 'm') & (cite_data['gen'] == 'w')].groupby('time').mean().values\n",
    "modm = sm.OLS(ym, X)\n",
    "resm = modm.fit()\n",
    "\n",
    "print('All citers: ' + str(res.params[1]) + ', ' + str(res.pvalues[1]))\n",
    "print('W citers: ' + str(resw.params[1]) + ', ' + str(resw.pvalues[1]))\n",
    "print('M citers: ' + str(resm.params[1]) + ', ' + str(resm.pvalues[1]))"
   ]
  },
  {
   "cell_type": "code",
   "execution_count": null,
   "metadata": {
    "scrolled": true
   },
   "outputs": [],
   "source": [
    "f,ax = plt.subplots(1,1,figsize=(12,4))\n",
    "sns.lineplot(data=cite_data[cite_data['citer'] == 'w'], x='time', y='perc', hue='gen',ax=ax, palette=[colors[0],colors[1]])\n",
    "ax.set_title('Womens Citation Practices')\n",
    "plt.savefig('../data/img/w_cite_w.pdf')"
   ]
  },
  {
   "cell_type": "code",
   "execution_count": null,
   "metadata": {},
   "outputs": [],
   "source": [
    "f,ax = plt.subplots(1,1,figsize=(12,4))\n",
    "sns.lineplot(data=cite_data[cite_data['citer'] == 'm'], x='time', y='perc', hue='gen',ax=ax, palette=[colors[0],colors[1]])\n",
    "ax.set_title('Mens Citation Practices')\n",
    "plt.savefig('../data/img/m_cite_w.pdf')"
   ]
  },
  {
   "cell_type": "code",
   "execution_count": null,
   "metadata": {},
   "outputs": [],
   "source": []
  }
 ],
 "metadata": {
  "kernelspec": {
   "display_name": "mod_env",
   "language": "python",
   "name": "mod_env"
  },
  "language_info": {
   "codemirror_mode": {
    "name": "ipython",
    "version": 3
   },
   "file_extension": ".py",
   "mimetype": "text/x-python",
   "name": "python",
   "nbconvert_exporter": "python",
   "pygments_lexer": "ipython3",
   "version": "3.9.2"
  }
 },
 "nbformat": 4,
 "nbformat_minor": 2
}
