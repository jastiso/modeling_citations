{
 "cells": [
  {
   "cell_type": "code",
   "execution_count": 1,
   "metadata": {},
   "outputs": [
    {
     "ename": "SyntaxError",
     "evalue": "invalid syntax (author_fns.py, line 277)",
     "output_type": "error",
     "traceback": [
      "Traceback \u001b[0;36m(most recent call last)\u001b[0m:\n",
      "  File \u001b[1;32m\"/Users/stiso/anaconda2/envs/mod_env/lib/python3.9/site-packages/IPython/core/interactiveshell.py\"\u001b[0m, line \u001b[1;32m3437\u001b[0m, in \u001b[1;35mrun_code\u001b[0m\n    exec(code_obj, self.user_global_ns, self.user_ns)\n",
      "\u001b[0;36m  File \u001b[0;32m\"<ipython-input-1-ef6487e0cc02>\"\u001b[0;36m, line \u001b[0;32m15\u001b[0;36m, in \u001b[0;35m<module>\u001b[0;36m\u001b[0m\n\u001b[0;31m    from functions.author_fns import Author, compare_nets\u001b[0m\n",
      "\u001b[0;36m  File \u001b[0;32m\"/Users/stiso/Documents/Code/modeling_citations/functions/author_fns.py\"\u001b[0;36m, line \u001b[0;32m277\u001b[0m\n\u001b[0;31m    print(a.)\u001b[0m\n\u001b[0m            ^\u001b[0m\n\u001b[0;31mSyntaxError\u001b[0m\u001b[0;31m:\u001b[0m invalid syntax\n"
     ]
    }
   ],
   "source": [
    "import pandas as pd\n",
    "import seaborn as sns\n",
    "import igraph\n",
    "import numpy as np\n",
    "import matplotlib.pyplot as plt\n",
    "from joblib import Parallel, delayed\n",
    "from tqdm import tqdm\n",
    "\n",
    "# import local functions\n",
    "import os\n",
    "import sys\n",
    "module_path = os.path.abspath(os.path.join(\"..\"))\n",
    "if module_path not in sys.path:\n",
    "    sys.path.append(module_path)\n",
    "from functions.author_fns import Author, compare_nets\n",
    "\n",
    "%matplotlib inline"
   ]
  },
  {
   "cell_type": "markdown",
   "metadata": {},
   "source": [
    "## Load data"
   ]
  },
  {
   "cell_type": "code",
   "execution_count": null,
   "metadata": {},
   "outputs": [],
   "source": [
    "method = 'florida'\n",
    "node_2_gender = np.load('%s/data/%s_node_2_gender.npy'%('..',method),allow_pickle='TRUE').item()\n",
    "g = igraph.load('../data/florida_coa_graph',format='pickle')"
   ]
  },
  {
   "cell_type": "markdown",
   "metadata": {},
   "source": [
    "## Parameter distributions and constants"
   ]
  },
  {
   "cell_type": "markdown",
   "metadata": {},
   "source": [
    "#### Thresholds and constants"
   ]
  },
  {
   "cell_type": "code",
   "execution_count": null,
   "metadata": {},
   "outputs": [],
   "source": [
    "nAuth = 1000\n",
    "learn_thr = .1\n",
    "c = 3\n",
    "diam = 3\n",
    "net_size = 500\n",
    "bib_length = 100\n",
    "woman_perc = sum([x['gender'] == 'woman' for x in node_2_gender.values()])/len(node_2_gender)\n",
    "colors = ['#d97d5b', '#4a3b90']"
   ]
  },
  {
   "cell_type": "markdown",
   "metadata": {},
   "source": [
    "#### Netbias\n",
    "Max shows that coauthorship is a modest predictor of over/under citation"
   ]
  },
  {
   "cell_type": "code",
   "execution_count": null,
   "metadata": {},
   "outputs": [],
   "source": [
    "# parameters (mean, stdev) for each distribution\n",
    "net_w = (.5,.1)\n",
    "net_m = (.4,.1)"
   ]
  },
  {
   "cell_type": "code",
   "execution_count": null,
   "metadata": {},
   "outputs": [],
   "source": [
    "f,ax = plt.subplots(1,1,figsize=(6,4))\n",
    "sns.histplot(np.random.normal(loc=net_w[0],scale=net_w[1],size=5000), color=colors[0])\n",
    "sns.histplot(np.random.normal(loc=net_m[0],scale=net_m[1],size=5000), color=colors[1])\n",
    "f.legend(labels=['women','men'])"
   ]
  },
  {
   "cell_type": "markdown",
   "metadata": {},
   "source": [
    "#### Walk bias\n",
    "Taken from jordans paper, men cite WW teams about 20% less than you would expect. Women are about 5%"
   ]
  },
  {
   "cell_type": "code",
   "execution_count": null,
   "metadata": {},
   "outputs": [],
   "source": [
    "walk_w = (.5,.05)\n",
    "walk_m = (.35,.05)"
   ]
  },
  {
   "cell_type": "code",
   "execution_count": null,
   "metadata": {},
   "outputs": [],
   "source": [
    "f,ax = plt.subplots(1,1,figsize=(6,4))\n",
    "sns.histplot(np.random.normal(loc=walk_w[0],scale=walk_w[1],size=5000), color=colors[0])\n",
    "sns.histplot(np.random.normal(loc=walk_m[0],scale=walk_m[1],size=5000), color=colors[1])\n",
    "f.legend(labels=['women','men'])"
   ]
  },
  {
   "cell_type": "markdown",
   "metadata": {},
   "source": [
    "#### Meet bias\n",
    "People in the majority are less interdisciplinary"
   ]
  },
  {
   "cell_type": "code",
   "execution_count": null,
   "metadata": {},
   "outputs": [],
   "source": [
    "meet_w = (0.02,0.005)\n",
    "meet_m = (0.03,0.005)"
   ]
  },
  {
   "cell_type": "code",
   "execution_count": null,
   "metadata": {},
   "outputs": [],
   "source": [
    "f,ax = plt.subplots(1,1,figsize=(6,4))\n",
    "sns.histplot(np.random.normal(loc=meet_w[0],scale=meet_w[1],size=5000), color=colors[0])\n",
    "sns.histplot(np.random.normal(loc=meet_m[0],scale=meet_m[1],size=5000), color=colors[1])\n",
    "f.legend(labels=['women','men'])"
   ]
  },
  {
   "cell_type": "markdown",
   "metadata": {},
   "source": [
    "#### Learn bias\n",
    "Taken from Chris's paper"
   ]
  },
  {
   "cell_type": "code",
   "execution_count": null,
   "metadata": {},
   "outputs": [],
   "source": [
    "learn_w = (-1,.75)\n",
    "learn_m = (-1,.75)"
   ]
  },
  {
   "cell_type": "code",
   "execution_count": null,
   "metadata": {},
   "outputs": [],
   "source": [
    "f,ax = plt.subplots(1,1,figsize=(6,4))\n",
    "sns.histplot(np.log(np.random.lognormal(mean=learn_w[0],sigma=learn_w[1],size=5000)), color=colors[0])\n",
    "sns.histplot(np.log(np.random.lognormal(mean=learn_m[0],sigma=learn_m[1],size=5000)), color=colors[1])\n",
    "f.legend(labels=['women','men'])"
   ]
  },
  {
   "cell_type": "markdown",
   "metadata": {},
   "source": [
    "## Simulations\n"
   ]
  },
  {
   "cell_type": "code",
   "execution_count": null,
   "metadata": {},
   "outputs": [],
   "source": [
    "# generate authors\n",
    "authors = []\n",
    "for i in range(nAuth):\n",
    "    if np.random.rand(1)[0] >= woman_perc:\n",
    "        gen = 'M'\n",
    "    else:\n",
    "        gen = 'W'\n",
    "    # draw biases\n",
    "    if gen == 'M':\n",
    "        net = np.random.normal(loc=net_m[0],scale=net_m[1],size=1)[0]\n",
    "        walk = np.random.normal(loc=walk_m[0],scale=walk_m[1],size=1)[0]\n",
    "        meet = np.random.normal(loc=meet_m[0],scale=meet_m[1],size=1)[0]\n",
    "        learn = np.random.lognormal(mean=learn_m[0],sigma=learn_m[1],size=1)[0]\n",
    "    else:\n",
    "        net = np.random.normal(loc=net_w[0],scale=net_w[1],size=1)[0]\n",
    "        walk = np.random.normal(loc=walk_w[0],scale=walk_w[1],size=1)[0]\n",
    "        meet = np.random.normal(loc=meet_w[0],scale=meet_w[1],size=1)[0]\n",
    "        learn = np.random.lognormal(mean=learn_m[0],sigma=learn_m[1],size=1)[0]\n",
    "    # make object\n",
    "    a = Author(net,walk,meet,learn,gen)\n",
    "    a.init_network(g,node_2_gender,net_size,diam,c)\n",
    "    authors.append(a)\n"
   ]
  },
  {
   "cell_type": "code",
   "execution_count": 2,
   "metadata": {},
   "outputs": [
    {
     "ename": "NameError",
     "evalue": "name 'authors' is not defined",
     "output_type": "error",
     "traceback": [
      "\u001b[0;31m---------------------------------------------------------------------------\u001b[0m",
      "\u001b[0;31mNameError\u001b[0m                                 Traceback (most recent call last)",
      "\u001b[0;32m<ipython-input-2-f85f7e492575>\u001b[0m in \u001b[0;36m<module>\u001b[0;34m\u001b[0m\n\u001b[1;32m      5\u001b[0m \u001b[0mcitation_perc_w\u001b[0m \u001b[0;34m=\u001b[0m \u001b[0;34m[\u001b[0m\u001b[0;34m]\u001b[0m\u001b[0;34m;\u001b[0m\u001b[0;34m\u001b[0m\u001b[0;34m\u001b[0m\u001b[0m\n\u001b[1;32m      6\u001b[0m \u001b[0mcitation_perc_m\u001b[0m \u001b[0;34m=\u001b[0m \u001b[0;34m[\u001b[0m\u001b[0;34m]\u001b[0m\u001b[0;34m;\u001b[0m\u001b[0;34m\u001b[0m\u001b[0;34m\u001b[0m\u001b[0m\n\u001b[0;32m----> 7\u001b[0;31m \u001b[0mw_index\u001b[0m \u001b[0;34m=\u001b[0m \u001b[0;34m[\u001b[0m\u001b[0ma\u001b[0m\u001b[0;34m.\u001b[0m\u001b[0mgender\u001b[0m \u001b[0;34m==\u001b[0m \u001b[0;34m'W'\u001b[0m \u001b[0;32mfor\u001b[0m \u001b[0ma\u001b[0m \u001b[0;32min\u001b[0m \u001b[0mauthors\u001b[0m\u001b[0;34m]\u001b[0m\u001b[0;34m\u001b[0m\u001b[0;34m\u001b[0m\u001b[0m\n\u001b[0m\u001b[1;32m      8\u001b[0m \u001b[0;31m# run simulation\u001b[0m\u001b[0;34m\u001b[0m\u001b[0;34m\u001b[0m\u001b[0;34m\u001b[0m\u001b[0m\n\u001b[1;32m      9\u001b[0m \u001b[0;32mfor\u001b[0m \u001b[0mi\u001b[0m \u001b[0;32min\u001b[0m \u001b[0mtqdm\u001b[0m\u001b[0;34m(\u001b[0m\u001b[0mrange\u001b[0m\u001b[0;34m(\u001b[0m\u001b[0mnMeetings\u001b[0m\u001b[0;34m)\u001b[0m\u001b[0;34m)\u001b[0m\u001b[0;34m:\u001b[0m\u001b[0;34m\u001b[0m\u001b[0;34m\u001b[0m\u001b[0m\n",
      "\u001b[0;31mNameError\u001b[0m: name 'authors' is not defined"
     ]
    }
   ],
   "source": [
    "# simulate meetings\n",
    "nMeetings = 10000\n",
    "meets = {}; # keep track of when meetings were successful\n",
    "citation_perc = [];\n",
    "citation_perc_w = [];\n",
    "citation_perc_m = [];\n",
    "w_index = [a.gender == 'W' for a in authors]\n",
    "# run simulation\n",
    "for i in tqdm(range(nMeetings)):\n",
    "    # draw random authors\n",
    "    auths = np.random.choice(range(nAuth),2)\n",
    "    \n",
    "    # check if at least one will meet\n",
    "    [m12,m21] = compare_nets(authors[auths[0]], authors[auths[1]])\n",
    "    if any([m12,m21]):\n",
    "        # if yes, update the network\n",
    "        if m12:\n",
    "            bib = authors[auths[1]].get_cites(bib_length)\n",
    "            authors[auths[0]].update_network(bib, authors[auths[1]].network, learn_thr)\n",
    "        if m21:\n",
    "            bib = authors[auths[0]].get_cites(bib_length)\n",
    "            authors[auths[1]].update_network(bib, authors[auths[1]].network, learn_thr)\n",
    "    # log information\n",
    "    # update meets\n",
    "    meets[i] = {'gender': authors[auths[0]].gender + authors[auths[1]].gender, 'meet':[m12,m21]}\n",
    "    # update cites\n",
    "    bibs = [a.get_cites(bib_length) for a in authors]\n",
    "    bibs_w = [b for i,b in enumerate(bibs) if w_index[i]]\n",
    "    bibs_m = [b for i,b in enumerate(bibs) if not(w_index[i])]\n",
    "    citation_perc.append(np.mean([cite['gender'] == 'woman' for b in bibs for cite in b.values()]))\n",
    "    citation_perc_w.append(np.mean([cite['gender'] == 'woman' for b in bibs_w for cite in b.values()]))\n",
    "    citation_perc_m.append(np.mean([cite['gender'] == 'woman' for b in bibs_m for cite in b.values()]))\n",
    "    "
   ]
  },
  {
   "cell_type": "code",
   "execution_count": null,
   "metadata": {},
   "outputs": [],
   "source": [
    "# plots\n",
    "sns.countplot([sum(x['meet']) for x in meets.values()])"
   ]
  },
  {
   "cell_type": "code",
   "execution_count": 95,
   "metadata": {},
   "outputs": [
    {
     "data": {
      "text/plain": [
       "<matplotlib.legend.Legend at 0x7fcec1307ca0>"
      ]
     },
     "execution_count": 95,
     "metadata": {},
     "output_type": "execute_result"
    },
    {
     "data": {
      "image/png": "[encoded data removed]",
      "text/plain": [
       "<Figure size 864x288 with 1 Axes>"
      ]
     },
     "metadata": {
      "needs_background": "light"
     },
     "output_type": "display_data"
    }
   ],
   "source": [
    "f,ax = plt.subplots(1,1,figsize=(12,4))\n",
    "sns.lineplot(data=citation_perc, color='k',ax=ax)\n",
    "sns.lineplot(data=citation_perc_w, color=colors[0],ax=ax)\n",
    "sns.lineplot(data=citation_perc_m, color=colors[1],ax=ax)\n",
    "f.legend(labels=['all','women','men'])"
   ]
  }
 ],
 "metadata": {
  "kernelspec": {
   "display_name": "mod_env",
   "language": "python",
   "name": "mod_env"
  }
 },
 "nbformat": 4,
 "nbformat_minor": 2
}
